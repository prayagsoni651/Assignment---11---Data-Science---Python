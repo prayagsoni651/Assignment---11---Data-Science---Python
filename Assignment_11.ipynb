{
 "cells": [
  {
   "cell_type": "code",
   "execution_count": null,
   "metadata": {},
   "outputs": [],
   "source": [
    "# 1. Create an assert statement that throws an AssertionError \n",
    "# if the variable spam is a negative integer.\n",
    "\n",
    "\n",
    "\n",
    "\n",
    "'''\n",
    " an assert statement that throws an AssertionError if the variable spam\n",
    " is a negative integer:\n",
    "'''\n",
    "\n",
    "assert spam >= 0, \"spam should be a non-negative integer\"\n",
    "\n",
    "\n",
    "'''\n",
    "This statement checks whether the value of spam is greater than or equal \n",
    "to 0. If spam is a negative integer, the assertion will fail, and an\n",
    "AssertionError with the specified message will be raised\n",
    "\n",
    "\n",
    "'''\n"
   ]
  },
  {
   "cell_type": "code",
   "execution_count": null,
   "metadata": {},
   "outputs": [],
   "source": [
    "# 2. Write an assert statement that triggers an AssertionError if the\n",
    "# variables eggs and bacon contain strings that are the same as each \n",
    "# other, even if their cases are different (that is, 'hello' and 'hello' \n",
    "# are considered the same, and 'goodbye' and 'GOODbye' are also considered \n",
    "# the same).\n",
    "\n",
    "'''\n",
    "You can use the lower() method to convert both strings to lowercase and then \n",
    "compare them. Here's an assert statement that triggers an AssertionError\n",
    "if the variables eggs and bacon contain strings that are the same when their\n",
    "cases are ignored:\n",
    "\n",
    "'''\n",
    "\n",
    "assert eggs.lower() != bacon.lower(), \"eggs and bacon should not be the same (case-insensitive)\"\n",
    "\n",
    "\n",
    "'''\n",
    "This assertion checks if the lowercase versions of eggs and bacon are not equal.\n",
    "If they are equal when case is ignored, the assertion will fail, and an \n",
    "AssertionError with the specified message will be raised\n",
    "\n",
    "'''"
   ]
  },
  {
   "cell_type": "code",
   "execution_count": null,
   "metadata": {},
   "outputs": [],
   "source": [
    "# 3. Create an assert statement that throws an AssertionError every time.\n",
    "\n",
    "'''\n",
    "If you want to create an assert statement that always throws an AssertionError,\n",
    "you can simply use assert False\n",
    "'''\n",
    "\n",
    "assert False, \"This assertion always triggers an AssertionError\"\n",
    "'''\n",
    "\n",
    "This statement will always evaluate to False, leading to the assertion \n",
    "failing and raising an AssertionError with the provided message. This\n",
    "can be useful for testing and debugging purposes\n",
    "\n",
    "\n",
    "'''\n"
   ]
  },
  {
   "cell_type": "code",
   "execution_count": 4,
   "metadata": {},
   "outputs": [
    {
     "data": {
      "text/plain": [
       "'\\n\\nThe first line imports the logging module, and the second line configures the\\nlogging system to log messages at the DEBUG level or above. After these\\nlines, you can use logging.debug() to log debug-level messages in your\\nsoftware. Adjust the level parameter in basicConfig to control the \\nlogging level threshold as needed for your application.\\n\\n'"
      ]
     },
     "execution_count": 4,
     "metadata": {},
     "output_type": "execute_result"
    }
   ],
   "source": [
    "# 4. What are the two lines that must be present in your software in order to \n",
    "# call logging.debug()?\n",
    "\n",
    "'''\n",
    "\n",
    "In order to use logging.debug() in your Python software, you need to include \n",
    "the following two lines to configure the logging system and actually call \n",
    "the debug() method:\n",
    "\n",
    "'''\n",
    "\n",
    "\n",
    "import logging\n",
    "logging.basicConfig(level=logging.DEBUG)\n",
    "\n",
    "'''\n",
    "\n",
    "The first line imports the logging module, and the second line configures the\n",
    "logging system to log messages at the DEBUG level or above. After these\n",
    "lines, you can use logging.debug() to log debug-level messages in your\n",
    "software. Adjust the level parameter in basicConfig to control the \n",
    "logging level threshold as needed for your application.\n",
    "\n",
    "'''\n"
   ]
  },
  {
   "cell_type": "code",
   "execution_count": 5,
   "metadata": {},
   "outputs": [
    {
     "data": {
      "text/plain": [
       "'\\nThe first line imports the logging module, and the second line configures \\nthe logging system to log messages at the DEBUG level or above, and it\\ndirects the output to the file named programLog.txt. Adjust the level\\nparameter in basicConfig based on your desired logging level threshold.\\n\\n'"
      ]
     },
     "execution_count": 5,
     "metadata": {},
     "output_type": "execute_result"
    }
   ],
   "source": [
    "\n",
    "# 5. What are the two lines that your program must have in order to have\n",
    "# logging.debug() send a logging message to a file named programLog.txt?\n",
    "\n",
    "\n",
    "'''\n",
    "\n",
    "To redirect the output of logging.debug() to a file named programLog.txt, \n",
    "you can use the following two lines in your Python program:\n",
    "'''\n",
    "\n",
    "import logging\n",
    "\n",
    "logging.basicConfig(filename='programLog.txt', level=logging.DEBUG)\n",
    "\n",
    "\n",
    "'''\n",
    "The first line imports the logging module, and the second line configures \n",
    "the logging system to log messages at the DEBUG level or above, and it\n",
    "directs the output to the file named programLog.txt. Adjust the level\n",
    "parameter in basicConfig based on your desired logging level threshold.\n",
    "\n",
    "'''"
   ]
  },
  {
   "cell_type": "code",
   "execution_count": 6,
   "metadata": {},
   "outputs": [
    {
     "data": {
      "text/plain": [
       "\"\\n\\nIn Python's logging module, there are five standard levels of logging, listed \\nfrom the most severe to the least severe:\\n\\n = CRITICAL: The highest level. Used for very severe error messages that may \\n   lead the program to terminate.\\n\\n = ERROR: Used for error messages that indicate a more serious problem but may\\n   not necessarily lead to the termination of the program.\\n\\n = WARNING: Used for warning messages that indicate potential issues but don't\\n   necessarily prevent the program from continuing.\\n\\n = INFO: Used for informational messages that provide a high-level overview of\\n   what the program is doing.\\n\\n = DEBUG: The lowest level. Used for detailed debugging messages, typically \\n   used during development and debugging phases.\\n\\nWhen configuring the logging system, you can set the logging level to control\\nwhich messages are captured based on their severity. Messages at the configured \\nlevel and above will be logged, while messages below that level will be \\nignored.\\n\\n\\n\""
      ]
     },
     "execution_count": 6,
     "metadata": {},
     "output_type": "execute_result"
    }
   ],
   "source": [
    "# 6. What are the five levels of logging?\n",
    "\n",
    "'''\n",
    "\n",
    "In Python's logging module, there are five standard levels of logging, listed \n",
    "from the most severe to the least severe:\n",
    "\n",
    " = CRITICAL: The highest level. Used for very severe error messages that may \n",
    "   lead the program to terminate.\n",
    "\n",
    " = ERROR: Used for error messages that indicate a more serious problem but may\n",
    "   not necessarily lead to the termination of the program.\n",
    "\n",
    " = WARNING: Used for warning messages that indicate potential issues but don't\n",
    "   necessarily prevent the program from continuing.\n",
    "\n",
    " = INFO: Used for informational messages that provide a high-level overview of\n",
    "   what the program is doing.\n",
    "\n",
    " = DEBUG: The lowest level. Used for detailed debugging messages, typically \n",
    "   used during development and debugging phases.\n",
    "\n",
    "When configuring the logging system, you can set the logging level to control\n",
    "which messages are captured based on their severity. Messages at the configured \n",
    "level and above will be logged, while messages below that level will be \n",
    "ignored.\n",
    "\n",
    "\n",
    "'''\n"
   ]
  },
  {
   "cell_type": "code",
   "execution_count": 7,
   "metadata": {},
   "outputs": [
    {
     "data": {
      "text/plain": [
       "'\\nThis line disables all logging messages with a severity level less than or\\nequal to CRITICAL. After adding this line, any logging messages at levels\\nsuch as ERROR, WARNING, INFO, and DEBUG will be ignored. This can be useful\\nif you want to suppress all logging output for a particular run of your \\nprogram.\\n\\n'"
      ]
     },
     "execution_count": 7,
     "metadata": {},
     "output_type": "execute_result"
    }
   ],
   "source": [
    "# 7. What line of code would you add to your software to \n",
    "# disable all logging messages?\n",
    "\n",
    "'''\n",
    "To disable all logging messages in your software, you can add the following \n",
    "line:\n",
    "'''\n",
    "\n",
    "logging.disable(logging.CRITICAL)\n",
    "\n",
    "\n",
    "'''\n",
    "This line disables all logging messages with a severity level less than or\n",
    "equal to CRITICAL. After adding this line, any logging messages at levels\n",
    "such as ERROR, WARNING, INFO, and DEBUG will be ignored. This can be useful\n",
    "if you want to suppress all logging output for a particular run of your \n",
    "program.\n",
    "\n",
    "'''"
   ]
  },
  {
   "cell_type": "code",
   "execution_count": 8,
   "metadata": {},
   "outputs": [
    {
     "data": {
      "text/plain": [
       "'\\n = Configurability: \\n   Logging allows you to configure different log levels, such\\n   as DEBUG, INFO, WARNING, ERROR, and CRITICAL. You can control which messages \\n   are displayed based on their severity. This configurability is not easily \\n   achievable with simple print() statements.\\n\\n = Granular Control:\\n   With logging, you can enable or disable logging at\\n   different levels independently. This allows you to focus on specific types\\n   of messages during different phases of development or debugging.\\n\\n = Logging to Different Destinations: \\n   The logging module allows you to direct \\n   log messages to different destinations, such as a file, the console, or even\\n   a network socket. This flexibility is not easily achieved with print().\\n\\n = Structured Output:\\n   Logging allows you to include additional information, \\n   such as timestamps, log levels, and source locations, in a structured format.\\n   This can be valuable for understanding the context of log messages.\\n\\n = Integration with Libraries and Frameworks:\\n   Many libraries and frameworks \\n   use the logging module, making it easier to integrate your logging statements\\n   with third-party components.\\n\\n = Performance Impact:\\n   When logging is properly configured, you can control\\n   the performance impact of logging by adjusting the log level. In contrast, \\n   print() statements always execute, which might impact performance, especially\\n   in production environments.\\n\\n = Centralized Control: \\n   Logging provides a centralized way to manage and \\n   control the output of messages across different modules and components of\\n   your software \\n   \\n'"
      ]
     },
     "execution_count": 8,
     "metadata": {},
     "output_type": "execute_result"
    }
   ],
   "source": [
    "# 8.Why is using logging messages better than using print() \n",
    "# to display the same message?\n",
    "\n",
    "\n",
    "'''\n",
    " = Configurability: \n",
    "   Logging allows you to configure different log levels, such\n",
    "   as DEBUG, INFO, WARNING, ERROR, and CRITICAL. You can control which messages \n",
    "   are displayed based on their severity. This configurability is not easily \n",
    "   achievable with simple print() statements.\n",
    "\n",
    " = Granular Control:\n",
    "   With logging, you can enable or disable logging at\n",
    "   different levels independently. This allows you to focus on specific types\n",
    "   of messages during different phases of development or debugging.\n",
    "\n",
    " = Logging to Different Destinations: \n",
    "   The logging module allows you to direct \n",
    "   log messages to different destinations, such as a file, the console, or even\n",
    "   a network socket. This flexibility is not easily achieved with print().\n",
    "\n",
    " = Structured Output:\n",
    "   Logging allows you to include additional information, \n",
    "   such as timestamps, log levels, and source locations, in a structured format.\n",
    "   This can be valuable for understanding the context of log messages.\n",
    "\n",
    " = Integration with Libraries and Frameworks:\n",
    "   Many libraries and frameworks \n",
    "   use the logging module, making it easier to integrate your logging statements\n",
    "   with third-party components.\n",
    "\n",
    " = Performance Impact:\n",
    "   When logging is properly configured, you can control\n",
    "   the performance impact of logging by adjusting the log level. In contrast, \n",
    "   print() statements always execute, which might impact performance, especially\n",
    "   in production environments.\n",
    "\n",
    " = Centralized Control: \n",
    "   Logging provides a centralized way to manage and \n",
    "   control the output of messages across different modules and components of\n",
    "   your software \n",
    "   \n",
    "'''\n"
   ]
  },
  {
   "cell_type": "code",
   "execution_count": 9,
   "metadata": {},
   "outputs": [
    {
     "data": {
      "text/plain": [
       "'\\n\\n\\nStep Over:\\nMoves to the next line of code in the current function, skipping over function\\ncalls.\\n\\n\\nStep In: \\nMoves into the called function, stopping at the first line inside\\nthat function.\\n\\n\\nStep Out:\\nFinishes the current function and stops at the line in the calling \\nfunction.\\n\\n'"
      ]
     },
     "execution_count": 9,
     "metadata": {},
     "output_type": "execute_result"
    }
   ],
   "source": [
    "# 9. What are the differences between the Step Over, Step In, and\n",
    "# Step Out buttons in the debugger?\n",
    "\n",
    "\n",
    "'''\n",
    "In a debugger, such as the one provided by integrated development environments\n",
    "(IDEs) like PyCharm, Visual Studio Code, or others, the Step Over, Step In,\n",
    "and Step Out buttons are used for controlling the flow of program execution \n",
    "during debugging. Here are the differences between these buttons:\n",
    "\n",
    "\n",
    "\n",
    "\n",
    "Step Over:\n",
    "Functionality: \n",
    "When you click \"Step Over\" (or use a keyboard shortcut), the \n",
    "debugger executes the current line of code and stops at the next line.\n",
    "Use Case: \n",
    "This is useful when you want to skip over the details of a function call and \n",
    "simply move to the next line in the current function.\n",
    "\n",
    "\n",
    "\n",
    "\n",
    "Step In:\n",
    "Functionality: \n",
    "Clicking \"Step In\" (or using a keyboard shortcut) causes the debugger to move \n",
    "into the called function, stopping at the first line of code inside that\n",
    "function.\n",
    "Use Case:\n",
    "This is helpful when you want to dive into the details of a function and debug\n",
    "it line by line.\n",
    "\n",
    "\n",
    "\n",
    "\n",
    "Step Out:\n",
    "Functionality:\n",
    "\"Step Out\" is used to finish the execution of the current function and stop \n",
    "at the line of code in the calling function.\n",
    "Use Case:\n",
    "When you are inside a function and have stepped through its lines, clicking\n",
    "\"Step Out\" will take you back to the calling function. This is useful when\n",
    "you've stepped into a function and want to return to the higher-level context\n",
    "'''\n",
    "\n",
    "'''\n",
    "\n",
    "\n",
    "Step Over:\n",
    "Moves to the next line of code in the current function, skipping over function\n",
    "calls.\n",
    "\n",
    "\n",
    "Step In: \n",
    "Moves into the called function, stopping at the first line inside\n",
    "that function.\n",
    "\n",
    "\n",
    "Step Out:\n",
    "Finishes the current function and stops at the line in the calling \n",
    "function.\n",
    "\n",
    "'''\n"
   ]
  },
  {
   "cell_type": "code",
   "execution_count": 10,
   "metadata": {},
   "outputs": [
    {
     "data": {
      "text/plain": [
       "'\\n\\nAfter clicking \"Continue\" in a debugger, the debugger will continue the \\nexecution of the program until one of the following events occurs:\\n\\n1 = Breakpoint is encountered:\\nIf there is a breakpoint set in the code, the debugger will stop when it \\nreaches that breakpoint.\\n\\n\\n\\n2 = Exception is raised:\\nIf an exception occurs during the execution and it is not caught within the \\nprogram, the debugger will stop at the point where the exception is raised.\\n\\n\\n\\n\\n3 = Program completes execution: \\nIf the program finishes executing all the code without encountering a breakpoint\\nor an unhandled exception, the debugger will stop when the program completes\\n\\n\\n'"
      ]
     },
     "execution_count": 10,
     "metadata": {},
     "output_type": "execute_result"
    }
   ],
   "source": [
    "# 10.After you click Continue, when will the debugger stop ?\n",
    "\n",
    "'''\n",
    "\n",
    "After clicking \"Continue\" in a debugger, the debugger will continue the \n",
    "execution of the program until one of the following events occurs:\n",
    "\n",
    "1 = Breakpoint is encountered:\n",
    "If there is a breakpoint set in the code, the debugger will stop when it \n",
    "reaches that breakpoint.\n",
    "\n",
    "\n",
    "\n",
    "2 = Exception is raised:\n",
    "If an exception occurs during the execution and it is not caught within the \n",
    "program, the debugger will stop at the point where the exception is raised.\n",
    "\n",
    "\n",
    "\n",
    "\n",
    "3 = Program completes execution: \n",
    "If the program finishes executing all the code without encountering a breakpoint\n",
    "or an unhandled exception, the debugger will stop when the program completes\n",
    "\n",
    "\n",
    "'''"
   ]
  },
  {
   "cell_type": "code",
   "execution_count": null,
   "metadata": {},
   "outputs": [],
   "source": [
    "# 11. What is the concept of a breakpoint?\n",
    "\n",
    "\n",
    "\n",
    "'''\n",
    "\n",
    "A breakpoint is a designated point in the source code of a program where \n",
    "the debugger should temporarily suspend normal execution and allow the\n",
    "developer to inspect the program's state, variables, and control flow. \n",
    "Setting breakpoints is a fundamental debugging technique that helps \n",
    "developers identify and troubleshoot issues in their code\n",
    "\n",
    "'''\n",
    "\n",
    "\n",
    "\n",
    "'''\n",
    "\n",
    "Key concepts related to breakpoints include:\n",
    "\n",
    "1 = Setting Breakpoints:\n",
    "Developers can set breakpoints at specific lines of code using their \n",
    "integrated development environment (IDE) or debugger tools. This is\n",
    "typically done by clicking on the left margin of the code editor next\n",
    "to the line number or through a specific command in the IDE.\n",
    "\n",
    "\n",
    "\n",
    "\n",
    "2 = Types of Breakpoints:\n",
    "Line Breakpoints: \n",
    "Pause execution when the program reaches a specific line of code.\n",
    "Conditional Breakpoints: Pause execution only if a specified condition is true.\n",
    "Function Breakpoints:\n",
    "Pause execution when a particular function is called.\n",
    "\n",
    "\n",
    "\n",
    "\n",
    "\n",
    "3 = Pausing Execution:\n",
    "When the program reaches a breakpoint during execution, it temporarily pauses,\n",
    "allowing the developer to inspect variables, evaluate expressions, and \n",
    "understand the program's state at that point.\n",
    "\n",
    "\n",
    "\n",
    "\n",
    "\n",
    "4 = Stepping Through Code:\n",
    "While at a breakpoint, developers can step through the code using commands \n",
    "like \"Step Into,\" \"Step Over,\" and \"Step Out\" to navigate through the program's\n",
    "execution line by line.\n",
    "\n",
    "\n",
    "\n",
    "5 = Dynamic Modification:\n",
    "In some debuggers, developers can set breakpoints dynamically while the program \n",
    "is running. This is helpful for identifying issues in specific scenarios.\n",
    "\n",
    "\n",
    "\n",
    "\n",
    "6 =  Conditional Breakpoints:\n",
    "Breakpoints can be set to trigger only when specific conditions are met. For\n",
    "example, a breakpoint might only activate when a variable's value reaches a \n",
    "certain threshold.\n",
    "\n",
    "\n",
    "\n",
    "\n",
    "7 = Enabling and Disabling:\n",
    "Breakpoints can be enabled or disabled based on the developer's needs. This \n",
    "allows developers to selectively activate or deactivate breakpoints during \n",
    "debugging sessions.\n",
    "\n",
    "'''"
   ]
  }
 ],
 "metadata": {
  "kernelspec": {
   "display_name": "base",
   "language": "python",
   "name": "python3"
  },
  "language_info": {
   "codemirror_mode": {
    "name": "ipython",
    "version": 3
   },
   "file_extension": ".py",
   "mimetype": "text/x-python",
   "name": "python",
   "nbconvert_exporter": "python",
   "pygments_lexer": "ipython3",
   "version": "3.11.4"
  }
 },
 "nbformat": 4,
 "nbformat_minor": 2
}
